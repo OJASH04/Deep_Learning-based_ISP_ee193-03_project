{
 "cells": [
  {
   "cell_type": "code",
   "execution_count": 1,
   "metadata": {},
   "outputs": [],
   "source": [
    "## splitXY\n",
    "## This script/notebook separates the S7 ISP Dataset used in DeepISP paper as downloaded from Kaggle into X and Y folders\n",
    "## of observations (dng) and ground truths (jpg)\n",
    "## "
   ]
  },
  {
   "cell_type": "code",
   "execution_count": null,
   "metadata": {},
   "outputs": [],
   "source": [
    "import os\n",
    "import glob\n",
    "import shutil "
   ]
  },
  {
   "cell_type": "code",
   "execution_count": 4,
   "metadata": {},
   "outputs": [],
   "source": [
    "DATASET_DIR_NAME = 'S7-ISP-Dataset'\n",
    "BASE_PATH = os.getcwd()\n",
    "DATA_PATH = os.path.join(BASE_PATH,DATASET_DIR_NAME)\n",
    "NEW_PATH_X = os.path.join(os.getcwd(),'X')\n",
    "NEW_PATH_Y = os.path.join(os.getcwd(),'Y')\n",
    "\n",
    "if not os.path.isdir(NEW_PATH_X): os.mkdir(NEW_PATH_X) # create directories if they don't exist\n",
    "if not os.path.isdir(NEW_PATH_Y): os.mkdir(NEW_PATH_Y)"
   ]
  },
  {
   "cell_type": "code",
   "execution_count": 6,
   "metadata": {},
   "outputs": [],
   "source": [
    "for dirname in os.listdir(DATA_PATH):\n",
    "    DNGs = glob.glob(DATA_PATH+\"/\"+dirname+\"/\"+\"*.dng\") #list of full paths to dng\n",
    "    JPGs = glob.glob(DATA_PATH+\"/\"+dirname+\"/\"+\"*.jpg\") #list of full paths to jpg\n",
    "    #print(\"DNG:\", DNGs)\n",
    "    #print(\"JPG:\", JPGs)\n",
    "    for dng_path, jpg_path in zip(DNGs,JPGs):\n",
    "        dng_name = dng_path.split('/')[-1]\n",
    "        ## Remove the suffix 1 from [0-9]_short_exposure1.dng###### This problem is not in the jpg files\n",
    "        dng_name = dng_name.split('.')[-2][:-1] if dng_name.split('.')[-2][-1]=='1' else pass\n",
    "        ##########################\n",
    "        jpg_name = jpg_path.split('/')[-1]\n",
    "        #print(\"Names are: \",dng_name,\"/n\", jpg_name)\n",
    "        shutil.copy(dng_path, os.path.join(NEW_PATH_X,dirname+'_'+dng_name))\n",
    "        shutil.copy(jpg_path, os.path.join(NEW_PATH_Y,dirname+'_'+jpg_name)) "
   ]
  }
 ],
 "metadata": {
  "kernelspec": {
   "display_name": "Python 3",
   "language": "python",
   "name": "python3"
  },
  "language_info": {
   "codemirror_mode": {
    "name": "ipython",
    "version": 3
   },
   "file_extension": ".py",
   "mimetype": "text/x-python",
   "name": "python",
   "nbconvert_exporter": "python",
   "pygments_lexer": "ipython3",
   "version": "3.7.4"
  }
 },
 "nbformat": 4,
 "nbformat_minor": 4
}
