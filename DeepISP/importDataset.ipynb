{
 "cells": [
  {
   "cell_type": "code",
   "execution_count": 15,
   "metadata": {},
   "outputs": [],
   "source": [
    "## importDataset\n",
    "## Prepare dataset for training\n",
    "## Assumes png filenames in X have been corrected to remove suffix 1"
   ]
  },
  {
   "cell_type": "code",
   "execution_count": null,
   "metadata": {},
   "outputs": [],
   "source": [
    "import numpy as np\n",
    "#import matplotlib.pyplot as plt\n",
    "import os\n",
    "import tensorflow as tf\n",
    "#import pathlib\n",
    "#import cv2\n",
    "#import rawpy\n",
    "import glob"
   ]
  },
  {
   "cell_type": "code",
   "execution_count": 2,
   "metadata": {},
   "outputs": [],
   "source": [
    "AUTOTUNE = tf.data.experimental.AUTOTUNE\n",
    "BATCH_SIZE = 3 #TODO: increase "
   ]
  },
  {
   "cell_type": "code",
   "execution_count": 26,
   "metadata": {},
   "outputs": [],
   "source": [
    "# Reads an image from a file, decodes it into a dense tensor.\n",
    "# TODO: Figure out how to split tensor string 'filepath' and use filetype to call appropriate decode function\n",
    "def parse_imagePNG(filepath):\n",
    "    print('here')\n",
    "    image = tf.io.read_file(filepath)  \n",
    "    #image = tf.image.decode_png(image) if tf.strings.split(filepath,sep='.').numpy[-1] == b'png'[-1] else tf.image.decode_jpeg(image) \n",
    "    image = tf.image.decode_png(image)\n",
    "    image = tf.image.convert_image_dtype(image, tf.float32)\n",
    "    #image = tf.image.resize(imageX, [width, height]) # Might want to use this during inference and if we train on other data\n",
    "    return image"
   ]
  },
  {
   "cell_type": "code",
   "execution_count": 4,
   "metadata": {},
   "outputs": [],
   "source": [
    "# TODO: figure out how to split screen so that there is one pare_image function\n",
    "def parse_imageJPEG(filepath):\n",
    "    image = tf.io.read_file(filepath)  \n",
    "    #image = tf.image.decode_png(image) if tf.strings.split(filepath,sep='.').numpy[-1] == b'png'[-1] else tf.image.decode_jpeg(image) \n",
    "    image = tf.image.decode_jpeg(image)\n",
    "    image = tf.image.convert_image_dtype(image, tf.float32)\n",
    "    #image = tf.image.resize(imageX, [width, height]) # Might want to use this during inference and if we train on other data\n",
    "    return image"
   ]
  },
  {
   "cell_type": "code",
   "execution_count": 5,
   "metadata": {},
   "outputs": [],
   "source": [
    "def prepare_for_training(ds, cache=True, shuffle_buffer_size=1000):\n",
    "    if cache:\n",
    "        if isinstance(cache, str): # cache preprocessing work in file\n",
    "            ds = ds.cache(cache)\n",
    "        else:\n",
    "            ds = ds.cache() #cache in memory\n",
    "    ds = ds.shuffle(buffer_size=shuffle_buffer_size)\n",
    "\n",
    "    # Repeat forever\n",
    "    #ds = ds.repeat() # ?? number of epochs ??\n",
    "\n",
    "    ds = ds.batch(BATCH_SIZE)\n",
    "\n",
    "    # `prefetch` lets the dataset fetch batches in the background while the model\n",
    "    # is training.\n",
    "    ds = ds.prefetch(buffer_size=AUTOTUNE)\n",
    "\n",
    "    return ds"
   ]
  },
  {
   "cell_type": "code",
   "execution_count": 6,
   "metadata": {},
   "outputs": [],
   "source": [
    "DATAX_PATH = os.path.join(os.getcwd(),'X_dem')\n",
    "DATAY_PATH = os.path.join(os.getcwd(),'Y')"
   ]
  },
  {
   "cell_type": "code",
   "execution_count": 7,
   "metadata": {},
   "outputs": [],
   "source": [
    "fnames = [name.split('.')[-2] for name in os.listdir(DATAX_PATH)] # unique data names (no file extensions or path hierarchy)"
   ]
  },
  {
   "cell_type": "code",
   "execution_count": 16,
   "metadata": {},
   "outputs": [],
   "source": [
    "# step 1: Lists of paths to each training data point and ground truth\n",
    "#X_file_paths = tf.constant([os.path.join(DATAX_PATH,xname+'.png') for xname in fnames]) #this would be equivalent to glob.glob but ensures one-to-one correspondence in X and Y\n",
    "#Y_file_paths = tf.constant([os.path.join(DATAY_PATH,xname+'.jpg') for xname in fnames])\n",
    "\n",
    "X_file_paths = [tf.constant(os.path.join(DATAX_PATH,xname+'.png')) for xname in fnames] #this would be equivalent to glob.glob but ensures one-to-one correspondence in X and Y\n",
    "Y_file_paths = [tf.constant(os.path.join(DATAY_PATH,xname+'.jpg')) for xname in fnames]"
   ]
  },
  {
   "cell_type": "code",
   "execution_count": 9,
   "metadata": {},
   "outputs": [],
   "source": [
    "#list_ds = tf.data.Dataset.list_files(str(flowers_root/'*/*'))"
   ]
  },
  {
   "cell_type": "code",
   "execution_count": 36,
   "metadata": {},
   "outputs": [],
   "source": [
    "# step 2: create a dataset returning slices of `filenames`\n",
    "#dataset = tf.data.Dataset.from_tensor_slices(X_file_paths)\n",
    "#list_dsX = tf.data.Dataset.list_files(X_file_paths)\n",
    "#list_dsY = tf.data.Dataset.list_files(Y_file_paths)\n",
    "\n",
    "list_dsX = tf.data.Dataset.list_files(DATAX_PATH+str('/*.png'))\n",
    "list_dsY = tf.data.Dataset.list_files(DATAY_PATH+str('/*.jpg'))\n"
   ]
  },
  {
   "cell_type": "code",
   "execution_count": 37,
   "metadata": {},
   "outputs": [
    {
     "name": "stdout",
     "output_type": "stream",
     "text": [
      "here\n"
     ]
    },
    {
     "data": {
      "text/plain": [
       "'for f in dsX.take(1):\\n    print(f.numpy()[:10])'"
      ]
     },
     "execution_count": 37,
     "metadata": {},
     "output_type": "execute_result"
    }
   ],
   "source": [
    "# step3: map pare function to each (x,y) TODO: add batch size\n",
    "dsX = list_dsX.map(parse_imagePNG, num_parallel_calls=AUTOTUNE) # For every path in list_dsX call parse_images\n",
    "dsY = list_dsY.map(parse_imageJPEG, num_parallel_calls=AUTOTUNE)\n",
    "# TODO: figure out why dimensions are shown as None when .elementspec\n",
    "# This shows that data is actually loaded\n",
    "'''for f in dsX.take(1):\n",
    "    print(f.numpy()[:10])'''"
   ]
  },
  {
   "cell_type": "code",
   "execution_count": 38,
   "metadata": {},
   "outputs": [],
   "source": [
    "labeled_ds = tf.data.Dataset.zip((dsX, dsY)) #combine to one dataset TODO: read more documentation"
   ]
  },
  {
   "cell_type": "code",
   "execution_count": 115,
   "metadata": {},
   "outputs": [],
   "source": [
    "dataset = prepare_for_training(dataset) # If everything is correct, this is the dataset to be used in training"
   ]
  },
  {
   "cell_type": "code",
   "execution_count": 10,
   "metadata": {},
   "outputs": [],
   "source": [
    "# step 4: create iterator and final input tensor\n"
   ]
  },
  {
   "cell_type": "code",
   "execution_count": null,
   "metadata": {},
   "outputs": [],
   "source": []
  }
 ],
 "metadata": {
  "kernelspec": {
   "display_name": "Python 3",
   "language": "python",
   "name": "python3"
  },
  "language_info": {
   "codemirror_mode": {
    "name": "ipython",
    "version": 3
   },
   "file_extension": ".py",
   "mimetype": "text/x-python",
   "name": "python",
   "nbconvert_exporter": "python",
   "pygments_lexer": "ipython3",
   "version": "3.7.4"
  }
 },
 "nbformat": 4,
 "nbformat_minor": 4
}
