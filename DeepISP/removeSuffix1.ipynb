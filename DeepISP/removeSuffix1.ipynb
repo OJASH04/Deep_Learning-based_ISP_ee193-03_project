{
 "cells": [
  {
   "cell_type": "code",
   "execution_count": 2,
   "metadata": {},
   "outputs": [],
   "source": [
    "## removeSuffix1\n",
    "## script/notebook to remove the suffix 1 from [0-9]_short_exposure1.dng###### This problem is not in the jpg files\n",
    "## needed if have already demosaiced the dng files\n",
    "## not  needed if just downloaded the dataset and have version of splitXY that uses this fix"
   ]
  },
  {
   "cell_type": "code",
   "execution_count": null,
   "metadata": {},
   "outputs": [],
   "source": [
    "import os\n",
    "import glob\n",
    "import shutil "
   ]
  },
  {
   "cell_type": "code",
   "execution_count": 3,
   "metadata": {},
   "outputs": [],
   "source": [
    "BASE_PATH = os.getcwd()\n",
    "PATH_X = os.path.join(os.getcwd(),'X_dem')"
   ]
  },
  {
   "cell_type": "code",
   "execution_count": 11,
   "metadata": {},
   "outputs": [],
   "source": [
    "for png_path in glob.glob(PATH_X+'/'+'*.png'):\n",
    "    name = png_path.split('.')[-2]\n",
    "    if name[-1]=='1':  os.rename(png_path, name[:-1]+'.png')  "
   ]
  }
 ],
 "metadata": {
  "kernelspec": {
   "display_name": "Python 3",
   "language": "python",
   "name": "python3"
  },
  "language_info": {
   "codemirror_mode": {
    "name": "ipython",
    "version": 3
   },
   "file_extension": ".py",
   "mimetype": "text/x-python",
   "name": "python",
   "nbconvert_exporter": "python",
   "pygments_lexer": "ipython3",
   "version": "3.7.4"
  }
 },
 "nbformat": 4,
 "nbformat_minor": 4
}
